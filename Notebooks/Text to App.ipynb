{
 "cells": [
  {
   "cell_type": "code",
   "execution_count": 1,
   "id": "cfb9e218-5acd-4e41-989f-bcd636e3582f",
   "metadata": {},
   "outputs": [],
   "source": [
    "import ollama\n",
    "import os\n",
    "import time\n",
    "from subprocess import check_output, Popen, PIPE\n",
    "import re"
   ]
  },
  {
   "cell_type": "code",
   "execution_count": 2,
   "id": "2711c200-120a-40a3-96a2-17e8d4996b65",
   "metadata": {},
   "outputs": [],
   "source": [
    "%%capture\n",
    "try:\n",
    "    check_output([\"bash\",\"command.sh\"])\n",
    "except:\n",
    "    DUMP = Popen([\"ollama\", \"serve\"], stdout=PIPE, stderr=PIPE)\n",
    "time.sleep(5);"
   ]
  },
  {
   "cell_type": "code",
   "execution_count": 3,
   "id": "c6c536c1-4583-4d14-b6a1-62ee8387bcc0",
   "metadata": {},
   "outputs": [
    {
     "data": {
      "text/plain": [
       "{'models': [{'name': 'deepseek-coder-v2:16b',\n",
       "   'model': 'deepseek-coder-v2:16b',\n",
       "   'modified_at': '2024-09-18T05:02:26.436792028Z',\n",
       "   'size': 8905126121,\n",
       "   'digest': '63fb193b3a9b4322a18e8c6b250ca2e70a5ff531e962dbf95ba089b2566f2fa5',\n",
       "   'details': {'parent_model': '',\n",
       "    'format': 'gguf',\n",
       "    'family': 'deepseek2',\n",
       "    'families': ['deepseek2'],\n",
       "    'parameter_size': '15.7B',\n",
       "    'quantization_level': 'Q4_0'}}]}"
      ]
     },
     "execution_count": 3,
     "metadata": {},
     "output_type": "execute_result"
    }
   ],
   "source": [
    "ollama.list()"
   ]
  },
  {
   "cell_type": "code",
   "execution_count": 4,
   "id": "14e1ba2d-ac28-44b1-9322-8e63730206ed",
   "metadata": {},
   "outputs": [],
   "source": [
    "imports = \"import { Animated, Button, View, Text, Image, TextInput, ScrollView, FlatList, SectionList, TouchableOpacity, TouchableHighlight, TouchableWithoutFeedback, Pressable, AppState, BackHandler, Dimensions, HapticFeedback, Linking, NativeModules, PermissionsAndroid, Platform, Settings, Share, ToastAndroid, Vibration, Keyboard, PixelRatio, LayoutAnimation, SafeAreaView, StyleSheet, ActivityIndicator, Alert, Modal, RefreshControl, Slider, Switch } from 'react-native';\"\n",
    "\n",
    "def emptyprompt():\n",
    "    return '''\n",
    "    App Description: This app displays the image of Jensen Huang, the CEO of NVIDIA, from the official NVIDIA website. The app is designed to be simple and easy to use, with a focus on displaying the image in a clear and concise manner.\n",
    "    \n",
    "    App Features:\n",
    "    \n",
    "    A single screen app that displays the image of Jensen Huang\n",
    "    The image is fetched from the API: https://www.nvidia.com/content/dam/en-zz/Solutions/about-nvidia/board-of-directors/jensen-huang.jpg\n",
    "    The app uses the Image component from React Native to display the image\n",
    "    The app handles errors and loading states for the image\n",
    "    The app displays a loading indicator while the image is being fetched\n",
    "    The app displays an error message if an error occurs while fetching the image\n",
    "    The app allows the user to view the image in a clear and concise manner\n",
    "    App Design:\n",
    "    \n",
    "    The app has a simple and clean design, with a focus on displaying the image\n",
    "    The app uses a white background to make the image stand out\n",
    "    The image is displayed in a square shape, with a width and height of 300 pixels\n",
    "    The app uses a font size of 18 pixels for the error message, and a font color of black\n",
    "    The app uses a loading indicator with a size of 50 pixels, and a color of blue\n",
    "    The app displays the CEO's title in green at the bottom of the image\n",
    "    '''\n",
    "\n",
    "def preprocess(prompt): \n",
    "    preprocess_prompt = f'''\n",
    "    Generate a complete React Native codebase for an app with the following description. The app description is as follows between triple quotes:\n",
    "    ```\n",
    "    {prompt}\n",
    "    ```\n",
    "\n",
    "    Follow the next guidelines to generate a high quality code.\n",
    "    - Use only functional components. \n",
    "    - Ensure all text is rendered inside the Text component, If not specified, all the text must be in \"black\".\n",
    "    - All the alerts as Alert.alert(title, message).\n",
    "    - Use Date module for date and time, never use any other module.\n",
    "    - Include any custom components within the same response, the entire application must be on the same page.. \n",
    "    - Use App as the default export.\n",
    "    - Avoid using any external imports, images, or assets that aren't included in the basic React Native setup.\n",
    "    - Provide only the code, with no explanations or quotations.\n",
    "\n",
    "    Here ir your code:\n",
    "    '''\n",
    "    return preprocess_prompt\n",
    "\n",
    "def postprocess(prompt):\n",
    "    code = prompt[\"response\"].replace(\"```jsx\",\"\").replace(\"```javascript\", \"\").replace(\"```\", \"\")\n",
    "    pattern = r\"import\\s+{[^}]*}\\s+from\\s+['\\\"]react-native['\\\"];\\n?\"\n",
    "    postprocess = re.sub(pattern, imports + \"\\n\", code)\n",
    "    return postprocess"
   ]
  },
  {
   "cell_type": "code",
   "execution_count": 5,
   "id": "bacda8f8-b2bb-40b3-b580-f075383158ef",
   "metadata": {},
   "outputs": [],
   "source": [
    "prompt = ''''''"
   ]
  },
  {
   "cell_type": "code",
   "execution_count": 6,
   "id": "6b3f57e1-9a74-47fe-947c-460f6db68fae",
   "metadata": {},
   "outputs": [],
   "source": [
    "%%capture\n",
    "output = ollama.generate(model='deepseek-coder-v2:16b', prompt=preprocess(prompt or emptyprompt()), options={\"temperature\": 0.8})"
   ]
  },
  {
   "cell_type": "code",
   "execution_count": 7,
   "id": "8f99f734-d548-4ee1-ad9c-9e084c83b31b",
   "metadata": {
    "scrolled": true
   },
   "outputs": [
    {
     "name": "stdout",
     "output_type": "stream",
     "text": [
      " \n",
      "import React, { useState, useEffect } from 'react';\n",
      "import { Animated, Button, View, Text, Image, TextInput, ScrollView, FlatList, SectionList, TouchableOpacity, TouchableHighlight, TouchableWithoutFeedback, Pressable, AppState, BackHandler, Dimensions, HapticFeedback, Linking, NativeModules, PermissionsAndroid, Platform, Settings, Share, ToastAndroid, Vibration, Keyboard, PixelRatio, LayoutAnimation, SafeAreaView, StyleSheet, ActivityIndicator, Alert, Modal, RefreshControl, Slider, Switch } from 'react-native';\n",
      "\n",
      "const App = () => {\n",
      "  const [imageUrl, setImageUrl] = useState(null);\n",
      "  const [loading, setLoading] = useState(true);\n",
      "  const [error, setError] = useState(false);\n",
      "\n",
      "  useEffect(() => {\n",
      "    fetchImage();\n",
      "  }, []);\n",
      "\n",
      "  const fetchImage = async () => {\n",
      "    try {\n",
      "      const response = await fetch('https://www.nvidia.com/content/dam/en-zz/Solutions/about-nvidia/board-of-directors/jensen-huang.jpg');\n",
      "      setImageUrl(response.url);\n",
      "      setLoading(false);\n",
      "    } catch (err) {\n",
      "      Alert.alert('Error', 'Failed to load image');\n",
      "      setError(true);\n",
      "      setLoading(false);\n",
      "    }\n",
      "  };\n",
      "\n",
      "  return (\n",
      "    <View style={styles.container}>\n",
      "      {loading ? (\n",
      "        <ActivityIndicator size=\"large\" color=\"#0000ff\" />\n",
      "      ) : error ? (\n",
      "        <Text style={styles.errorText}>Error loading image</Text>\n",
      "      ) : (\n",
      "        <Image source={{ uri: imageUrl }} style={styles.image} />\n",
      "      )}\n",
      "    </View>\n",
      "  );\n",
      "};\n",
      "\n",
      "const styles = StyleSheet.create({\n",
      "  container: {\n",
      "    flex: 1,\n",
      "    justifyContent: 'center',\n",
      "    alignItems: 'center',\n",
      "    backgroundColor: '#fff'\n",
      "  },\n",
      "  image: {\n",
      "    width: 300,\n",
      "    height: 300,\n",
      "    borderRadius: 150 // to make it a circle if needed\n",
      "  },\n",
      "  errorText: {\n",
      "    fontSize: 18,\n",
      "    color: 'black'\n",
      "  }\n",
      "});\n",
      "\n",
      "export default App;\n",
      "\n"
     ]
    }
   ],
   "source": [
    "lines = postprocess(output)\n",
    "printer = lines.split('\\n')\n",
    "print('\\n'.join(printer))"
   ]
  },
  {
   "cell_type": "code",
   "execution_count": null,
   "id": "dc9f5a5e-24da-4a95-bc01-0b7da1c15174",
   "metadata": {},
   "outputs": [],
   "source": []
  }
 ],
 "metadata": {
  "kernelspec": {
   "display_name": "Python 3 (ipykernel)",
   "language": "python",
   "name": "python3"
  },
  "language_info": {
   "codemirror_mode": {
    "name": "ipython",
    "version": 3
   },
   "file_extension": ".py",
   "mimetype": "text/x-python",
   "name": "python",
   "nbconvert_exporter": "python",
   "pygments_lexer": "ipython3",
   "version": "3.10.12"
  }
 },
 "nbformat": 4,
 "nbformat_minor": 5
}
